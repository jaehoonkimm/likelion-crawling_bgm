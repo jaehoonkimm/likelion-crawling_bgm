{
 "cells": [
  {
   "cell_type": "code",
   "execution_count": 8,
   "metadata": {
    "jupyter": {
     "outputs_hidden": true
    }
   },
   "outputs": [
    {
     "name": "stdout",
     "output_type": "stream",
     "text": [
      "Requirement already satisfied: request in /Users/jaehoonkim/anaconda3/envs/days_pandas/lib/python3.7/site-packages (0.0.0)\n",
      "Requirement already satisfied: post in /Users/jaehoonkim/anaconda3/envs/days_pandas/lib/python3.7/site-packages (from request) (0.0.0)\n",
      "Requirement already satisfied: get in /Users/jaehoonkim/anaconda3/envs/days_pandas/lib/python3.7/site-packages (from request) (0.0.0)\n",
      "Requirement already satisfied: query-string in /Users/jaehoonkim/anaconda3/envs/days_pandas/lib/python3.7/site-packages (from get->request) (0.0.0)\n",
      "Note: you may need to restart the kernel to use updated packages.\n"
     ]
    }
   ],
   "source": [
    "pip install request"
   ]
  },
  {
   "cell_type": "code",
   "execution_count": 9,
   "metadata": {
    "collapsed": true,
    "jupyter": {
     "outputs_hidden": true
    }
   },
   "outputs": [
    {
     "name": "stdout",
     "output_type": "stream",
     "text": [
      "Collecting BeautifulSoup\n",
      "  Using cached BeautifulSoup-3.2.2.tar.gz (32 kB)\n",
      "\u001b[31m    ERROR: Command errored out with exit status 1:\n",
      "     command: /Users/jaehoonkim/anaconda3/envs/days_pandas/bin/python -c 'import sys, setuptools, tokenize; sys.argv[0] = '\"'\"'/private/var/folders/5g/pv3f662j3f9_k14v559x9k7c0000gn/T/pip-install-uzgz7uhu/BeautifulSoup/setup.py'\"'\"'; __file__='\"'\"'/private/var/folders/5g/pv3f662j3f9_k14v559x9k7c0000gn/T/pip-install-uzgz7uhu/BeautifulSoup/setup.py'\"'\"';f=getattr(tokenize, '\"'\"'open'\"'\"', open)(__file__);code=f.read().replace('\"'\"'\\r\\n'\"'\"', '\"'\"'\\n'\"'\"');f.close();exec(compile(code, __file__, '\"'\"'exec'\"'\"'))' egg_info --egg-base /private/var/folders/5g/pv3f662j3f9_k14v559x9k7c0000gn/T/pip-install-uzgz7uhu/BeautifulSoup/pip-egg-info\n",
      "         cwd: /private/var/folders/5g/pv3f662j3f9_k14v559x9k7c0000gn/T/pip-install-uzgz7uhu/BeautifulSoup/\n",
      "    Complete output (6 lines):\n",
      "    Traceback (most recent call last):\n",
      "      File \"<string>\", line 1, in <module>\n",
      "      File \"/private/var/folders/5g/pv3f662j3f9_k14v559x9k7c0000gn/T/pip-install-uzgz7uhu/BeautifulSoup/setup.py\", line 3\n",
      "        \"You're trying to run a very old release of Beautiful Soup under Python 3. This will not work.\"<>\"Please use Beautiful Soup 4, available through the pip package 'beautifulsoup4'.\"\n",
      "                                                                                                        ^\n",
      "    SyntaxError: invalid syntax\n",
      "    ----------------------------------------\u001b[0m\n",
      "\u001b[31mERROR: Command errored out with exit status 1: python setup.py egg_info Check the logs for full command output.\u001b[0m\n",
      "Note: you may need to restart the kernel to use updated packages.\n"
     ]
    }
   ],
   "source": [
    "pip install BeautifulSoup"
   ]
  },
  {
   "cell_type": "code",
   "execution_count": 1,
   "metadata": {},
   "outputs": [],
   "source": [
    "import time"
   ]
  },
  {
   "cell_type": "code",
   "execution_count": 70,
   "metadata": {},
   "outputs": [],
   "source": [
    "import requests\n",
    "from bs4 import BeautifulSoup as bs\n",
    "\n",
    "def url_get(keyword=\"coffee\"):\n",
    "    URL = \"https://unsplash.com/s/photos/%s?orientation=landscape\" %keyword\n",
    "    response = requests.get(URL)\n",
    "    html = response.text\n",
    "    soup = bs(html, 'html.parser')\n",
    "\n",
    "    photoURL_ls = []\n",
    "\n",
    "    cnt = 0\n",
    "    for i in soup.select('div.nDTlD'):\n",
    "        for j in str(i).split():\n",
    "            if j.startswith('href=\"/photos/'):\n",
    "                innerURL = \"https://unsplash.com\"+j.replace('href=\"','').replace('\"','')\n",
    "                innerResponse = requests.get(innerURL)\n",
    "                innerhtml = innerResponse.text\n",
    "                innerSoup = bs(innerhtml, 'html.parser')\n",
    "                temp = innerSoup.select('div._2yFK-.IEpfq > img._2zEKz[src]')\n",
    "                for url in temp:\n",
    "                    photoURL_ls.append(url['srcset'].split(\"w,\")[8])\n",
    "        cnt = cnt+1\n",
    "        if(cnt==20):\n",
    "            break\n",
    "            \n",
    "    return photoURL_ls\n",
    "                \n",
    "\n",
    "            \n"
   ]
  },
  {
   "cell_type": "code",
   "execution_count": 71,
   "metadata": {},
   "outputs": [
    {
     "name": "stdout",
     "output_type": "stream",
     "text": [
      "14.346642971038818\n"
     ]
    }
   ],
   "source": [
    "start = time.time()\n",
    "url_get(\"hip-hop\")\n",
    "print(time.time() - start)"
   ]
  },
  {
   "cell_type": "code",
   "execution_count": 72,
   "metadata": {},
   "outputs": [
    {
     "data": {
      "text/plain": [
       "[' https://images.unsplash.com/photo-1513104487127-813ea879b8da?ixlib=rb-1.2.1&ixid=eyJhcHBfaWQiOjEyMDd9&auto=format&fit=crop&w=2466&q=80 2466',\n",
       " ' https://images.unsplash.com/photo-1513104487127-813ea879b8da?ixlib=rb-1.2.1&ixid=eyJhcHBfaWQiOjEyMDd9&auto=format&fit=crop&w=2466&q=80 2466',\n",
       " ' https://images.unsplash.com/photo-1512090421650-1ba94830f7b2?ixlib=rb-1.2.1&ixid=eyJhcHBfaWQiOjEyMDd9&auto=format&fit=crop&w=2550&q=80 2550',\n",
       " ' https://images.unsplash.com/photo-1512090421650-1ba94830f7b2?ixlib=rb-1.2.1&ixid=eyJhcHBfaWQiOjEyMDd9&auto=format&fit=crop&w=2550&q=80 2550',\n",
       " ' https://images.unsplash.com/photo-1548123378-bde4eca81d2d?ixlib=rb-1.2.1&ixid=eyJhcHBfaWQiOjEyMDd9&auto=format&fit=crop&w=2550&q=80 2550',\n",
       " ' https://images.unsplash.com/photo-1548123378-bde4eca81d2d?ixlib=rb-1.2.1&ixid=eyJhcHBfaWQiOjEyMDd9&auto=format&fit=crop&w=2550&q=80 2550',\n",
       " ' https://images.unsplash.com/photo-1415886541506-6efc5e4b1786?ixlib=rb-1.2.1&ixid=eyJhcHBfaWQiOjEyMDd9&auto=format&fit=crop&w=2550&q=80 2550',\n",
       " ' https://images.unsplash.com/photo-1415886541506-6efc5e4b1786?ixlib=rb-1.2.1&ixid=eyJhcHBfaWQiOjEyMDd9&auto=format&fit=crop&w=2550&q=80 2550',\n",
       " ' https://images.unsplash.com/uploads/14114200676400596f2f6/a50d578a?ixlib=rb-1.2.1&ixid=eyJhcHBfaWQiOjEyMDd9&auto=format&fit=crop&w=2550&q=80 2550',\n",
       " ' https://images.unsplash.com/uploads/14114200676400596f2f6/a50d578a?ixlib=rb-1.2.1&ixid=eyJhcHBfaWQiOjEyMDd9&auto=format&fit=crop&w=2550&q=80 2550',\n",
       " ' https://images.unsplash.com/photo-1504293476958-6d6d0257d014?ixlib=rb-1.2.1&ixid=eyJhcHBfaWQiOjEyMDd9&auto=format&fit=crop&w=2550&q=80 2550',\n",
       " ' https://images.unsplash.com/photo-1504293476958-6d6d0257d014?ixlib=rb-1.2.1&ixid=eyJhcHBfaWQiOjEyMDd9&auto=format&fit=crop&w=2550&q=80 2550',\n",
       " ' https://images.unsplash.com/photo-1516981442399-a91139e20ff8?ixlib=rb-1.2.1&ixid=eyJhcHBfaWQiOjEyMDd9&auto=format&fit=crop&w=2550&q=80 2550',\n",
       " ' https://images.unsplash.com/photo-1516981442399-a91139e20ff8?ixlib=rb-1.2.1&ixid=eyJhcHBfaWQiOjEyMDd9&auto=format&fit=crop&w=2550&q=80 2550',\n",
       " ' https://images.unsplash.com/photo-1543384966-a56a575695c9?ixlib=rb-1.2.1&ixid=eyJhcHBfaWQiOjEyMDd9&auto=format&fit=crop&w=2390&q=80 2390',\n",
       " ' https://images.unsplash.com/photo-1543384966-a56a575695c9?ixlib=rb-1.2.1&ixid=eyJhcHBfaWQiOjEyMDd9&auto=format&fit=crop&w=2390&q=80 2390',\n",
       " ' https://images.unsplash.com/photo-1581355931381-d1173e039b4a?ixlib=rb-1.2.1&ixid=eyJhcHBfaWQiOjEyMDd9&auto=format&fit=crop&w=2894&q=80 2894',\n",
       " ' https://images.unsplash.com/photo-1581355931381-d1173e039b4a?ixlib=rb-1.2.1&ixid=eyJhcHBfaWQiOjEyMDd9&auto=format&fit=crop&w=2894&q=80 2894',\n",
       " ' https://images.unsplash.com/photo-1546405524-5714e4492a01?ixlib=rb-1.2.1&ixid=eyJhcHBfaWQiOjEyMDd9&auto=format&fit=crop&w=2506&q=80 2506',\n",
       " ' https://images.unsplash.com/photo-1546405524-5714e4492a01?ixlib=rb-1.2.1&ixid=eyJhcHBfaWQiOjEyMDd9&auto=format&fit=crop&w=2506&q=80 2506',\n",
       " ' https://images.unsplash.com/photo-1508973379184-7517410fb0bc?ixlib=rb-1.2.1&auto=format&fit=crop&w=2550&q=80 2550',\n",
       " ' https://images.unsplash.com/photo-1508973379184-7517410fb0bc?ixlib=rb-1.2.1&auto=format&fit=crop&w=2550&q=80 2550',\n",
       " ' https://images.unsplash.com/photo-1477336229416-9d67406e73bc?ixlib=rb-1.2.1&ixid=eyJhcHBfaWQiOjEyMDd9&auto=format&fit=crop&w=2550&q=80 2550',\n",
       " ' https://images.unsplash.com/photo-1477336229416-9d67406e73bc?ixlib=rb-1.2.1&ixid=eyJhcHBfaWQiOjEyMDd9&auto=format&fit=crop&w=2550&q=80 2550',\n",
       " ' https://images.unsplash.com/photo-1504326008149-71dbc00aa3ae?ixlib=rb-1.2.1&ixid=eyJhcHBfaWQiOjEyMDd9&auto=format&fit=crop&w=2550&q=80 2550',\n",
       " ' https://images.unsplash.com/photo-1504326008149-71dbc00aa3ae?ixlib=rb-1.2.1&ixid=eyJhcHBfaWQiOjEyMDd9&auto=format&fit=crop&w=2550&q=80 2550',\n",
       " ' https://images.unsplash.com/photo-1546528377-9049abbac32f?ixlib=rb-1.2.1&ixid=eyJhcHBfaWQiOjEyMDd9&auto=format&fit=crop&w=2550&q=80 2550',\n",
       " ' https://images.unsplash.com/photo-1546528377-9049abbac32f?ixlib=rb-1.2.1&ixid=eyJhcHBfaWQiOjEyMDd9&auto=format&fit=crop&w=2550&q=80 2550',\n",
       " ' https://images.unsplash.com/photo-1576694040870-b8e0886af262?ixlib=rb-1.2.1&ixid=eyJhcHBfaWQiOjEyMDd9&auto=format&fit=crop&w=2550&q=80 2550',\n",
       " ' https://images.unsplash.com/photo-1576694040870-b8e0886af262?ixlib=rb-1.2.1&ixid=eyJhcHBfaWQiOjEyMDd9&auto=format&fit=crop&w=2550&q=80 2550',\n",
       " ' https://images.unsplash.com/photo-1506628150-ab62050f199c?ixlib=rb-1.2.1&ixid=eyJhcHBfaWQiOjEyMDd9&auto=format&fit=crop&w=2550&q=80 2550',\n",
       " ' https://images.unsplash.com/photo-1506628150-ab62050f199c?ixlib=rb-1.2.1&ixid=eyJhcHBfaWQiOjEyMDd9&auto=format&fit=crop&w=2550&q=80 2550',\n",
       " ' https://images.unsplash.com/photo-1554254950-3667414ee579?ixlib=rb-1.2.1&ixid=eyJhcHBfaWQiOjEyMDd9&auto=format&fit=crop&w=2550&q=80 2550',\n",
       " ' https://images.unsplash.com/photo-1554254950-3667414ee579?ixlib=rb-1.2.1&ixid=eyJhcHBfaWQiOjEyMDd9&auto=format&fit=crop&w=2550&q=80 2550',\n",
       " ' https://images.unsplash.com/photo-1466554934129-f71df54ebb27?ixlib=rb-1.2.1&auto=format&fit=crop&w=2550&q=80 2550',\n",
       " ' https://images.unsplash.com/photo-1466554934129-f71df54ebb27?ixlib=rb-1.2.1&auto=format&fit=crop&w=2550&q=80 2550',\n",
       " ' https://images.unsplash.com/photo-1577648735394-9c41449a1f6f?ixlib=rb-1.2.1&ixid=eyJhcHBfaWQiOjEyMDd9&auto=format&fit=crop&w=2550&q=80 2550',\n",
       " ' https://images.unsplash.com/photo-1577648735394-9c41449a1f6f?ixlib=rb-1.2.1&ixid=eyJhcHBfaWQiOjEyMDd9&auto=format&fit=crop&w=2550&q=80 2550',\n",
       " ' https://images.unsplash.com/photo-1547082843-0c43e9359810?ixlib=rb-1.2.1&ixid=eyJhcHBfaWQiOjEyMDd9&auto=format&fit=crop&w=2689&q=80 2689',\n",
       " ' https://images.unsplash.com/photo-1547082843-0c43e9359810?ixlib=rb-1.2.1&ixid=eyJhcHBfaWQiOjEyMDd9&auto=format&fit=crop&w=2689&q=80 2689']"
      ]
     },
     "execution_count": 72,
     "metadata": {},
     "output_type": "execute_result"
    }
   ],
   "source": [
    "url_get(\"hip-hop\")"
   ]
  },
  {
   "cell_type": "code",
   "execution_count": null,
   "metadata": {},
   "outputs": [],
   "source": []
  }
 ],
 "metadata": {
  "kernelspec": {
   "display_name": "Python 3",
   "language": "python",
   "name": "python3"
  },
  "language_info": {
   "codemirror_mode": {
    "name": "ipython",
    "version": 3
   },
   "file_extension": ".py",
   "mimetype": "text/x-python",
   "name": "python",
   "nbconvert_exporter": "python",
   "pygments_lexer": "ipython3",
   "version": "3.7.6"
  }
 },
 "nbformat": 4,
 "nbformat_minor": 4
}
